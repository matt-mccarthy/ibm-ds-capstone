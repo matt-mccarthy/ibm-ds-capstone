{
 "cells": [
  {
   "attachments": {},
   "cell_type": "markdown",
   "metadata": {},
   "source": [
    "1. Which site has the most successful launches?\n",
    "\n",
    "KSC LC-39A has the most successful launches with 41.7% of all successful launches as shown in the pie chart for All\n",
    "Sites.\n",
    "\n",
    "2. Which site has the highest launch success rate?\n",
    "\n",
    "CCAFS SLC-40 has the highest success rate, with a success rate of 42.9%. This can be seen by looking at the pie chart\n",
    "for each site individually.\n",
    "\n",
    "3. Which payload range(s) has the highest launch success rate?\n",
    "\n",
    "A quick glance at the scatter plot indicates that 2000kg-4000kg and 4500kg-5500kg are the payload ranges with the\n",
    "highest success rates.\n",
    "\n",
    "4. Which payload range(s) has the lowest launch success rate?\n",
    "\n",
    "This is complimentary to the previous answer. The ranges <=2000kg, 4000kg-4500kg, and >=6000kg are the ranges with the\n",
    "lowest success rate.\n",
    "\n",
    "5. Which F9 Booster version (v1.0, v1.1, FT, B4, B5, etc.) has the highest launch success rate?\n",
    "\n",
    "Technically the B5 booster version has the highest launch success rate, however it has a sample size of 1 meaning that\n",
    "this data is unreliable.\n",
    "\n",
    "Of the others FT booster version has the highest launch success rate. Perhaps followed by/competing with the B4 booster\n",
    "version. Conversely, v1.0 and v1.1 barely have any successful launches."
   ]
  },
  {
   "attachments": {},
   "cell_type": "markdown",
   "metadata": {},
   "source": []
  }
 ],
 "metadata": {
  "language_info": {
   "name": "python"
  },
  "orig_nbformat": 4
 },
 "nbformat": 4,
 "nbformat_minor": 2
}
